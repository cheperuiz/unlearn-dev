{
 "cells": [
  {
   "cell_type": "code",
   "execution_count": 373,
   "metadata": {},
   "outputs": [],
   "source": [
    "class ItemWrapper:\n",
    "    def __init__(self, item = 0):\n",
    "        self.item = item\n",
    "        \n",
    "    def __lt__(self, other):\n",
    "        return self.item < other.item\n",
    "    \n",
    "    def __gt__(self, other):\n",
    "        return self.item > other.item\n",
    "    \n",
    "    def __le__(self, other):\n",
    "        return not other < self\n",
    "    \n",
    "    def __ge__(self, other):\n",
    "        return not self < other\n",
    "    \n",
    "    def __eq__(self, other):\n",
    "        return not (self < other or other < self)\n",
    "    \n",
    "    def __ne__(self,other):\n",
    "        return not self == other\n",
    "    \n",
    "    def __repr__(self):\n",
    "        return f'<ItemWrapper item: {self.item} at 0x{id(self):x}>'"
   ]
  }
 ],
 "metadata": {
  "kernelspec": {
   "display_name": "Python 3",
   "language": "python",
   "name": "python3"
  },
  "language_info": {
   "codemirror_mode": {
    "name": "ipython",
    "version": 3
   },
   "file_extension": ".py",
   "mimetype": "text/x-python",
   "name": "python",
   "nbconvert_exporter": "python",
   "pygments_lexer": "ipython3",
   "version": "3.8.1"
  }
 },
 "nbformat": 4,
 "nbformat_minor": 2
}
