{
 "cells": [
  {
   "cell_type": "code",
   "execution_count": 22,
   "metadata": {},
   "outputs": [],
   "source": [
    "import lorem\n",
    "import yaml\n",
    "from pymongo import MongoClient\n",
    "from random import choice\n",
    "\n",
    "from models.todo import TodoSchema\n",
    "from models.todo_dao import MongoDAO\n",
    "from library.utils import replace_env, make_url"
   ]
  },
  {
   "cell_type": "code",
   "execution_count": 23,
   "metadata": {},
   "outputs": [],
   "source": [
    "with open(\"/config/todos/default_config.yml\", \"r\") as f:\n",
    "    config = yaml.load(f, yaml.SafeLoader)\n",
    "replace_env(config)\n",
    "url = make_url(config[\"database\"][\"mongo\"], include_db=False)\n",
    "client = MongoClient(url)\n",
    "collection = client.todos.todos_collection\n",
    "\n",
    "\n",
    "dao = MongoDAO(collection, TodoSchema)"
   ]
  },
  {
   "cell_type": "code",
   "execution_count": 24,
   "metadata": {},
   "outputs": [],
   "source": [
    "schema = TodoSchema()\n",
    "\n",
    "for _ in range(100):\n",
    "    todo = schema.load({\n",
    "        'user_id' : choice([0,1,2,3,4,5]),\n",
    "        'title': lorem.sentence()\n",
    "    })\n",
    "    dao.add_item(todo)"
   ]
  },
  {
   "cell_type": "code",
   "execution_count": 11,
   "metadata": {},
   "outputs": [
    {
     "data": {
      "text/plain": [
       "{}"
      ]
     },
     "execution_count": 11,
     "metadata": {},
     "output_type": "execute_result"
    }
   ],
   "source": [
    "schema.validate(data={})"
   ]
  },
  {
   "cell_type": "code",
   "execution_count": 21,
   "metadata": {},
   "outputs": [
    {
     "data": {
      "text/plain": [
       "{'something': ['Unknown field.']}"
      ]
     },
     "execution_count": 21,
     "metadata": {},
     "output_type": "execute_result"
    }
   ],
   "source": [
    "schema.validate({\n",
    "    'something':'else'\n",
    "})"
   ]
  },
  {
   "cell_type": "code",
   "execution_count": null,
   "metadata": {},
   "outputs": [],
   "source": []
  }
 ],
 "metadata": {
  "kernelspec": {
   "display_name": "Python 3",
   "language": "python",
   "name": "python3"
  },
  "language_info": {
   "codemirror_mode": {
    "name": "ipython",
    "version": 3
   },
   "file_extension": ".py",
   "mimetype": "text/x-python",
   "name": "python",
   "nbconvert_exporter": "python",
   "pygments_lexer": "ipython3",
   "version": "3.8.1"
  }
 },
 "nbformat": 4,
 "nbformat_minor": 4
}
