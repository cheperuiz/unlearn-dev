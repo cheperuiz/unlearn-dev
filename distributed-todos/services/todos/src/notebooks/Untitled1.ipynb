{
 "cells": [
  {
   "cell_type": "code",
   "execution_count": null,
   "metadata": {},
   "outputs": [
    {
     "name": "stdout",
     "output_type": "stream",
     "text": [
      "\u001b[32m[I 200110 11:54:01 command:134]\u001b[m Visit me at http://localhost:5555\n",
      "\u001b[32m[I 200110 11:54:01 command:141]\u001b[m Broker: redis://:**@redis:6379/0\n",
      "\u001b[32m[I 200110 11:54:01 command:142]\u001b[m Registered tasks: \n",
      "    ['celery.accumulate',\n",
      "     'celery.backend_cleanup',\n",
      "     'celery.chain',\n",
      "     'celery.chord',\n",
      "     'celery.chord_unlock',\n",
      "     'celery.chunks',\n",
      "     'celery.group',\n",
      "     'celery.map',\n",
      "     'celery.starmap',\n",
      "     'tasks.worker.get_all_todos']\n",
      "\u001b[32m[I 200110 11:54:01 mixins:229]\u001b[m Connected to redis://:**@redis:6379/0\n",
      "\u001b[33m[W 200110 11:54:04 control:43]\u001b[m 'stats' inspect method failed\n",
      "\u001b[33m[W 200110 11:54:04 control:43]\u001b[m 'active_queues' inspect method failed\n",
      "\u001b[33m[W 200110 11:54:04 control:43]\u001b[m 'registered' inspect method failed\n",
      "\u001b[33m[W 200110 11:54:04 control:43]\u001b[m 'scheduled' inspect method failed\n",
      "\u001b[33m[W 200110 11:54:04 control:43]\u001b[m 'active' inspect method failed\n",
      "\u001b[33m[W 200110 11:54:04 control:43]\u001b[m 'reserved' inspect method failed\n",
      "\u001b[33m[W 200110 11:54:04 control:43]\u001b[m 'revoked' inspect method failed\n",
      "\u001b[33m[W 200110 11:54:04 control:43]\u001b[m 'conf' inspect method failed\n",
      "\u001b[33m[W 200110 11:59:21 web:1667]\u001b[m 404 GET /task/5b4c12cc-4f79-4a0b-a339-c65c82ec8d75 (172.24.0.1): Unknown task '5b4c12cc-4f79-4a0b-a339-c65c82ec8d75'\n",
      "\u001b[33m[W 200110 11:59:26 web:1667]\u001b[m 404 GET /task/59c5a20c-f665-456f-997c-02a04d90e829 (172.24.0.1): Unknown task '59c5a20c-f665-456f-997c-02a04d90e829'\n",
      "\u001b[33m[W 200110 11:59:34 web:1667]\u001b[m 404 GET /task/59c5a20c-f665-456f-997c-02a04d90e829 (172.24.0.1): Unknown task '59c5a20c-f665-456f-997c-02a04d90e829'\n"
     ]
    }
   ],
   "source": [
    "!cd ../tasks && celery flower -A worker --broker=redis://:redispassword@redis:6379/0"
   ]
  },
  {
   "cell_type": "code",
   "execution_count": null,
   "metadata": {},
   "outputs": [],
   "source": []
  }
 ],
 "metadata": {
  "kernelspec": {
   "display_name": "Python 3",
   "language": "python",
   "name": "python3"
  },
  "language_info": {
   "codemirror_mode": {
    "name": "ipython",
    "version": 3
   },
   "file_extension": ".py",
   "mimetype": "text/x-python",
   "name": "python",
   "nbconvert_exporter": "python",
   "pygments_lexer": "ipython3",
   "version": "3.8.1"
  }
 },
 "nbformat": 4,
 "nbformat_minor": 4
}
