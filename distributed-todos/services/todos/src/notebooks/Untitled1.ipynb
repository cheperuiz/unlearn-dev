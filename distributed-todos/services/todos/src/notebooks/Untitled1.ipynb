{
 "cells": [
  {
   "cell_type": "code",
   "execution_count": 1,
   "metadata": {},
   "outputs": [],
   "source": [
    "from models.todo import TodoSchema, Todo\n",
    "import json\n",
    "from pymongo import MongoClient"
   ]
  },
  {
   "cell_type": "code",
   "execution_count": 65,
   "metadata": {},
   "outputs": [],
   "source": [
    "\n",
    "class MongoDAO:\n",
    "    def __init__(self, collection, schema):\n",
    "        self._db = collection\n",
    "        self._schema = schema\n",
    "\n",
    "    def get_all(self):\n",
    "        todos_dict = list(self._db.find())\n",
    "        for todo in todos_dict:\n",
    "            todo['_id'] = str(todo['_id'])\n",
    "        return self._schema(many=True).load(todos_dict)\n",
    "\n",
    "    def get_by_uuid(self, uuid):\n",
    "        todo_dict = self._db.find_one({'uuid':uuid})\n",
    "        if todo_dict:\n",
    "            todo_dict['_id'] = str(todo_dict['_id'])\n",
    "            return self._schema().load(todo_dict)\n",
    "\n",
    "    def add_item(self, item):\n",
    "        item_dict = self._schema().dump(item)\n",
    "        r = self._db.insert_one(item_dict)\n",
    "        return r.inserted_id\n",
    "\n",
    "    def delete_by_uuid(self, uuid):\n",
    "        return self._db.delete_one({'uuid':uuid}).deleted_count\n",
    "\n",
    "    def update_by_uuid(self, uuid, data):\n",
    "        if not self._db.find_one({'uuid':uuid}):\n",
    "            return False\n",
    "        return self._db.update_one({'uuid':uuid},{'$set':data}).acknowledged\n",
    "    \n",
    "    \n"
   ]
  },
  {
   "cell_type": "code",
   "execution_count": 3,
   "metadata": {},
   "outputs": [],
   "source": [
    "import yaml\n",
    "from lib.common import make_url, replace_env"
   ]
  },
  {
   "cell_type": "code",
   "execution_count": 4,
   "metadata": {},
   "outputs": [
    {
     "data": {
      "text/plain": [
       "{'database': {'mongo': {'type': 'mongodb',\n",
       "   'host': 'mongo',\n",
       "   'user': 'mongouser',\n",
       "   'password': 'averysecurepassword',\n",
       "   'port': '27017',\n",
       "   'db': 'todos_db'}}}"
      ]
     },
     "execution_count": 4,
     "metadata": {},
     "output_type": "execute_result"
    }
   ],
   "source": [
    "with open('/config/todos/default_config.yml','r') as f:\n",
    "    config = yaml.load(f, yaml.SafeLoader)\n",
    "replace_env(config)"
   ]
  },
  {
   "cell_type": "code",
   "execution_count": 48,
   "metadata": {},
   "outputs": [],
   "source": [
    "todo = TodoSchema().load({\n",
    "    'user_id': 0,\n",
    "    'title':'Something to do.'\n",
    "})"
   ]
  },
  {
   "cell_type": "code",
   "execution_count": 6,
   "metadata": {},
   "outputs": [
    {
     "data": {
      "text/plain": [
       "Todo(user_id=0, uuid='TODO-5b7123a1-e952-4c90-a699-fa4d02c2d3df', title='Something to do.', completed=False)"
      ]
     },
     "execution_count": 6,
     "metadata": {},
     "output_type": "execute_result"
    }
   ],
   "source": [
    "todo"
   ]
  },
  {
   "cell_type": "code",
   "execution_count": 7,
   "metadata": {},
   "outputs": [],
   "source": [
    "url = make_url(config['database']['mongo'],include_db=False)"
   ]
  },
  {
   "cell_type": "code",
   "execution_count": 8,
   "metadata": {},
   "outputs": [],
   "source": [
    "client = MongoClient(url)\n",
    "collection = client.todos.todos_collection"
   ]
  },
  {
   "cell_type": "code",
   "execution_count": 62,
   "metadata": {},
   "outputs": [],
   "source": [
    "dao = MongoDAO(collection,TodoSchema)"
   ]
  },
  {
   "cell_type": "code",
   "execution_count": 51,
   "metadata": {},
   "outputs": [
    {
     "data": {
      "text/plain": [
       "ObjectId('5e14c4798637a2d727d71819')"
      ]
     },
     "execution_count": 51,
     "metadata": {},
     "output_type": "execute_result"
    }
   ],
   "source": [
    "dao.add_item(todo)"
   ]
  },
  {
   "cell_type": "code",
   "execution_count": 66,
   "metadata": {},
   "outputs": [
    {
     "data": {
      "text/plain": [
       "[Todo(user_id=0, uuid='TODO-37dcbb23-1741-4cd2-a91f-4c0b9297e700', title='A new original title!', completed=False)]"
      ]
     },
     "execution_count": 66,
     "metadata": {},
     "output_type": "execute_result"
    }
   ],
   "source": [
    "dao.get_all()"
   ]
  },
  {
   "cell_type": "code",
   "execution_count": 21,
   "metadata": {},
   "outputs": [],
   "source": [
    "id_str = str(collection.find_one()['_id'])"
   ]
  },
  {
   "cell_type": "code",
   "execution_count": 22,
   "metadata": {},
   "outputs": [],
   "source": [
    "from bson import ObjectId"
   ]
  },
  {
   "cell_type": "code",
   "execution_count": 23,
   "metadata": {},
   "outputs": [
    {
     "data": {
      "text/plain": [
       "True"
      ]
     },
     "execution_count": 23,
     "metadata": {},
     "output_type": "execute_result"
    }
   ],
   "source": [
    "ObjectId(id_str) == collection.find_one()['_id']"
   ]
  },
  {
   "cell_type": "code",
   "execution_count": 24,
   "metadata": {},
   "outputs": [
    {
     "data": {
      "text/plain": [
       "Todo(user_id=0, uuid='TODO-5b7123a1-e952-4c90-a699-fa4d02c2d3df', title='Something to do.', completed=False)"
      ]
     },
     "execution_count": 24,
     "metadata": {},
     "output_type": "execute_result"
    }
   ],
   "source": [
    "dao.get_by_uuid('TODO-5b7123a1-e952-4c90-a699-fa4d02c2d3df')"
   ]
  },
  {
   "cell_type": "code",
   "execution_count": 44,
   "metadata": {},
   "outputs": [
    {
     "data": {
      "text/plain": [
       "0"
      ]
     },
     "execution_count": 44,
     "metadata": {},
     "output_type": "execute_result"
    }
   ],
   "source": [
    "dao.delete_by_uuid('TODO-f943a3b6-096b-44be-b08b-a13ad2ef6b52')"
   ]
  },
  {
   "cell_type": "code",
   "execution_count": 64,
   "metadata": {},
   "outputs": [],
   "source": [
    "dao.update_by_uuid('TODO-37dcbb23-1741-4cd2-a91f-4c0b9 297e700',{'title': 'A new original title!'})"
   ]
  },
  {
   "cell_type": "code",
   "execution_count": 67,
   "metadata": {},
   "outputs": [],
   "source": [
    "class MyObject:\n",
    "    pass"
   ]
  },
  {
   "cell_type": "code",
   "execution_count": 68,
   "metadata": {},
   "outputs": [],
   "source": [
    "a = MyObject"
   ]
  },
  {
   "cell_type": "code",
   "execution_count": 69,
   "metadata": {},
   "outputs": [],
   "source": [
    "a.something = 'here'"
   ]
  },
  {
   "cell_type": "code",
   "execution_count": 71,
   "metadata": {},
   "outputs": [
    {
     "data": {
      "text/plain": [
       "'here'"
      ]
     },
     "execution_count": 71,
     "metadata": {},
     "output_type": "execute_result"
    }
   ],
   "source": [
    "a.something"
   ]
  },
  {
   "cell_type": "code",
   "execution_count": 73,
   "metadata": {},
   "outputs": [],
   "source": [
    "d = {}"
   ]
  },
  {
   "cell_type": "code",
   "execution_count": 78,
   "metadata": {},
   "outputs": [],
   "source": [
    "d['something'] = 'here'"
   ]
  },
  {
   "cell_type": "code",
   "execution_count": 96,
   "metadata": {},
   "outputs": [
    {
     "name": "stdout",
     "output_type": "stream",
     "text": [
      "called\n"
     ]
    }
   ],
   "source": [
    "def my_function(mutate, default=config_factory(\"/config/todos/default_config.yml\")):\n",
    "    if mutate:\n",
    "        default['something'] = 'here'\n",
    "    return default"
   ]
  },
  {
   "cell_type": "code",
   "execution_count": 97,
   "metadata": {},
   "outputs": [
    {
     "data": {
      "text/plain": [
       "{'database': {'mongo': {'type': 'mongodb',\n",
       "   'host': 'mongo',\n",
       "   'user': 'mongouser',\n",
       "   'password': 'averysecurepassword',\n",
       "   'port': '27017',\n",
       "   'db': 'todos_db'}}}"
      ]
     },
     "execution_count": 97,
     "metadata": {},
     "output_type": "execute_result"
    }
   ],
   "source": [
    "my_function(False)"
   ]
  },
  {
   "cell_type": "code",
   "execution_count": 95,
   "metadata": {},
   "outputs": [],
   "source": [
    "def config_factory(path):\n",
    "    print('called')\n",
    "    with open(path, \"r\") as f:\n",
    "        config = yaml.load(f, yaml.SafeLoader)\n",
    "    replace_env(config)\n",
    "    return config"
   ]
  },
  {
   "cell_type": "code",
   "execution_count": 88,
   "metadata": {},
   "outputs": [
    {
     "data": {
      "text/plain": [
       "{'database': {'mongo': {'type': 'mongodb',\n",
       "   'host': 'mongo',\n",
       "   'user': 'mongouser',\n",
       "   'password': 'averysecurepassword',\n",
       "   'port': '27017',\n",
       "   'db': 'todos_db'}}}"
      ]
     },
     "execution_count": 88,
     "metadata": {},
     "output_type": "execute_result"
    }
   ],
   "source": []
  },
  {
   "cell_type": "code",
   "execution_count": null,
   "metadata": {},
   "outputs": [],
   "source": []
  }
 ],
 "metadata": {
  "kernelspec": {
   "display_name": "Python 3",
   "language": "python",
   "name": "python3"
  },
  "language_info": {
   "codemirror_mode": {
    "name": "ipython",
    "version": 3
   },
   "file_extension": ".py",
   "mimetype": "text/x-python",
   "name": "python",
   "nbconvert_exporter": "python",
   "pygments_lexer": "ipython3",
   "version": "3.8.1"
  }
 },
 "nbformat": 4,
 "nbformat_minor": 2
}
