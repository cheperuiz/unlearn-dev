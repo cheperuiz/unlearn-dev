{
 "cells": [
  {
   "cell_type": "code",
   "execution_count": null,
   "metadata": {},
   "outputs": [
    {
     "name": "stdout",
     "output_type": "stream",
     "text": [
      "[2020-01-06 19:06:43 -0600] [29] [INFO] Starting gunicorn 20.0.4\n",
      "[2020-01-06 19:06:43 -0600] [29] [INFO] Listening at: http://0.0.0.0:5000 (29)\n",
      "[2020-01-06 19:06:43 -0600] [29] [INFO] Using worker: gthread\n",
      "[2020-01-06 19:06:43 -0600] [31] [INFO] Booting worker with pid: 31\n",
      "[2020-01-06 19:08:16 -0600] [31] [INFO] Worker reloading: /todos/app/api.py modified\n",
      "[2020-01-06 19:08:16 -0600] [31] [INFO] Worker exiting (pid: 31)\n",
      "[2020-01-06 19:08:16 -0600] [34] [INFO] Booting worker with pid: 34\n",
      "[2020-01-06 19:08:26 -0600] [34] [INFO] Worker reloading: /todos/app/api.py modified\n",
      "[2020-01-06 19:08:27 -0600] [34] [INFO] Worker exiting (pid: 34)\n",
      "[2020-01-06 19:08:27 -0600] [36] [INFO] Booting worker with pid: 36\n",
      "[2020-01-06 19:09:54 -0600] [36] [INFO] Worker reloading: /todos/app/api.py modified\n",
      "[2020-01-06 19:09:54 -0600] [36] [INFO] Worker exiting (pid: 36)\n",
      "[2020-01-06 19:09:54 -0600] [41] [INFO] Booting worker with pid: 41\n",
      "[2020-01-06 19:10:11 -0600] [41] [INFO] Worker reloading: /todos/app/api.py modified\n",
      "[2020-01-06 19:10:12 -0600] [41] [INFO] Worker exiting (pid: 41)\n",
      "[2020-01-06 19:10:12 -0600] [43] [INFO] Booting worker with pid: 43\n",
      "[2020-01-06 19:10:17 -0600] [43] [INFO] Worker reloading: /todos/app/api.py modified\n",
      "[2020-01-06 19:10:18 -0600] [43] [INFO] Worker exiting (pid: 43)\n",
      "[2020-01-06 19:10:18 -0600] [45] [INFO] Booting worker with pid: 45\n",
      "[2020-01-06 19:10:50 -0600] [45] [INFO] Worker reloading: /todos/app/api.py modified\n",
      "[2020-01-06 19:10:51 -0600] [45] [INFO] Worker exiting (pid: 45)\n",
      "[2020-01-06 19:10:51 -0600] [47] [INFO] Booting worker with pid: 47\n",
      "[2020-01-06 19:12:03 -0600] [47] [INFO] Worker reloading: /todos/app/api.py modified\n",
      "[2020-01-06 19:12:04 -0600] [47] [INFO] Worker exiting (pid: 47)\n",
      "[2020-01-06 19:12:04 -0600] [49] [INFO] Booting worker with pid: 49\n",
      "[2020-01-06 19:13:01 -0600] [49] [INFO] Worker reloading: /todos/app/api.py modified\n",
      "[2020-01-06 19:13:01 -0600] [49] [INFO] Worker exiting (pid: 49)\n",
      "[2020-01-06 19:13:01 -0600] [51] [INFO] Booting worker with pid: 51\n",
      "[2020-01-06 19:13:21 -0600] [51] [INFO] Worker reloading: /todos/app/api.py modified\n",
      "[2020-01-06 19:13:22 -0600] [51] [INFO] Worker exiting (pid: 51)\n",
      "[2020-01-06 19:13:22 -0600] [53] [INFO] Booting worker with pid: 53\n",
      "[2020-01-06 19:13:28 -0600] [53] [INFO] Worker reloading: /todos/app/api.py modified\n",
      "[2020-01-06 19:13:29 -0600] [53] [INFO] Worker exiting (pid: 53)\n",
      "[2020-01-06 19:13:29 -0600] [55] [INFO] Booting worker with pid: 55\n",
      "[2020-01-06 19:14:44 -0600] [55] [INFO] Worker reloading: /todos/app/api.py modified\n",
      "[2020-01-06 19:14:45 -0600] [55] [INFO] Worker exiting (pid: 55)\n",
      "[2020-01-06 19:14:45 -0600] [59] [INFO] Booting worker with pid: 59\n",
      "[2020-01-06 19:15:55 -0600] [59] [INFO] Worker reloading: /todos/app/api.py modified\n",
      "[2020-01-06 19:15:55 -0600] [59] [INFO] Worker exiting (pid: 59)\n",
      "[2020-01-06 19:15:55 -0600] [61] [INFO] Booting worker with pid: 61\n",
      "[2020-01-06 19:16:40 -0600] [61] [INFO] Worker reloading: /todos/app/api.py modified\n",
      "[2020-01-06 19:16:40 -0600] [61] [INFO] Worker exiting (pid: 61)\n",
      "[2020-01-06 19:16:40 -0600] [63] [INFO] Booting worker with pid: 63\n",
      "[2020-01-06 19:24:06 -0600] [63] [INFO] Worker reloading: /todos/app/api.py modified\n",
      "[2020-01-06 19:24:06 -0600] [63] [INFO] Worker exiting (pid: 63)\n",
      "[2020-01-06 19:24:06 -0600] [68] [INFO] Booting worker with pid: 68\n",
      "[2020-01-06 19:55:11 -0600] [29] [CRITICAL] WORKER TIMEOUT (pid:68)\n",
      "[2020-01-06 19:55:11 -0600] [68] [INFO] Worker exiting (pid: 68)\n",
      "[2020-01-06 19:55:11 -0600] [72] [INFO] Booting worker with pid: 72\n",
      "[2020-01-06 20:41:52 -0600] [29] [CRITICAL] WORKER TIMEOUT (pid:72)\n",
      "[2020-01-06 20:41:52 -0600] [72] [INFO] Worker exiting (pid: 72)\n",
      "[2020-01-06 20:41:52 -0600] [74] [INFO] Booting worker with pid: 74\n",
      "[2020-01-07 00:42:46 -0600] [29] [CRITICAL] WORKER TIMEOUT (pid:74)\n",
      "[2020-01-07 00:42:46 -0600] [74] [INFO] Worker exiting (pid: 74)\n",
      "[2020-01-07 00:42:46 -0600] [76] [INFO] Booting worker with pid: 76\n",
      "[2020-01-07 04:43:09 -0600] [29] [CRITICAL] WORKER TIMEOUT (pid:76)\n",
      "[2020-01-07 04:43:09 -0600] [76] [INFO] Worker exiting (pid: 76)\n",
      "[2020-01-07 04:43:09 -0600] [78] [INFO] Booting worker with pid: 78\n",
      "[2020-01-07 07:32:28 -0600] [29] [CRITICAL] WORKER TIMEOUT (pid:78)\n",
      "[2020-01-07 07:32:28 -0600] [78] [INFO] Worker exiting (pid: 78)\n",
      "[2020-01-07 07:32:28 -0600] [80] [INFO] Booting worker with pid: 80\n"
     ]
    }
   ],
   "source": [
    "!sh ../scripts/start_server.sh"
   ]
  },
  {
   "cell_type": "code",
   "execution_count": null,
   "metadata": {},
   "outputs": [],
   "source": []
  }
 ],
 "metadata": {
  "kernelspec": {
   "display_name": "Python 3",
   "language": "python",
   "name": "python3"
  },
  "language_info": {
   "codemirror_mode": {
    "name": "ipython",
    "version": 3
   },
   "file_extension": ".py",
   "mimetype": "text/x-python",
   "name": "python",
   "nbconvert_exporter": "python",
   "pygments_lexer": "ipython3",
   "version": "3.8.1"
  }
 },
 "nbformat": 4,
 "nbformat_minor": 2
}
