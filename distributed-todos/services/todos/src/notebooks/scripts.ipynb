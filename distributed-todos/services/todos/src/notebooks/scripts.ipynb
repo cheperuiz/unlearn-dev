{
 "cells": [
  {
   "cell_type": "code",
   "execution_count": null,
   "metadata": {},
   "outputs": [
    {
     "name": "stdout",
     "output_type": "stream",
     "text": [
      "[2020-01-07 11:59:47 -0600] [118] [INFO] Starting gunicorn 20.0.4\n",
      "[2020-01-07 11:59:47 -0600] [118] [INFO] Listening at: http://0.0.0.0:5000 (118)\n",
      "[2020-01-07 11:59:47 -0600] [118] [INFO] Using worker: gthread\n",
      "[2020-01-07 11:59:47 -0600] [120] [INFO] Booting worker with pid: 120\n",
      "[2020-01-07 12:01:14,033] ERROR in app: Exception on /todos-api/v1/todos/TODO-26fd2609-2d63-42ff-b353-214031a42f22 [PUT]\n",
      "Traceback (most recent call last):\n",
      "  File \"/usr/local/lib/python3.8/site-packages/flask/app.py\", line 1949, in full_dispatch_request\n",
      "    rv = self.dispatch_request()\n",
      "  File \"/usr/local/lib/python3.8/site-packages/flask/app.py\", line 1935, in dispatch_request\n",
      "    return self.view_functions[rule.endpoint](**req.view_args)\n",
      "  File \"/usr/local/lib/python3.8/site-packages/flask_restplus/api.py\", line 325, in wrapper\n",
      "    resp = resource(*args, **kwargs)\n",
      "  File \"/usr/local/lib/python3.8/site-packages/flask/views.py\", line 89, in view\n",
      "    return self.dispatch_request(*args, **kwargs)\n",
      "  File \"/usr/local/lib/python3.8/site-packages/flask_restplus/resource.py\", line 44, in dispatch_request\n",
      "    resp = meth(*args, **kwargs)\n",
      "  File \"/todos/app/api.py\", line 82, in put\n",
      "    dao.update_item_by_uuid(uuid, data)\n",
      "AttributeError: 'MongoDAO' object has no attribute 'update_item_by_uuid'\n",
      "[2020-01-07 12:01:37 -0600] [120] [INFO] Worker reloading: /todos/app/api.py modified\n",
      "[2020-01-07 12:01:38 -0600] [120] [INFO] Worker exiting (pid: 120)\n",
      "[2020-01-07 12:01:38 -0600] [126] [INFO] Booting worker with pid: 126\n",
      "[2020-01-07 12:02:18 -0600] [126] [INFO] Worker reloading: /todos/app/api.py modified\n",
      "[2020-01-07 12:02:18 -0600] [126] [INFO] Worker exiting (pid: 126)\n",
      "[2020-01-07 12:02:19 -0600] [131] [INFO] Booting worker with pid: 131\n",
      "[2020-01-07 12:04:11 -0600] [131] [INFO] Worker reloading: /todos/app/api.py modified\n",
      "[2020-01-07 12:04:11 -0600] [131] [INFO] Worker exiting (pid: 131)\n",
      "[2020-01-07 12:04:12 -0600] [136] [INFO] Booting worker with pid: 136\n",
      "[2020-01-07 12:04:23 -0600] [136] [INFO] Worker reloading: /todos/app/api.py modified\n",
      "[2020-01-07 12:04:24 -0600] [136] [INFO] Worker exiting (pid: 136)\n",
      "[2020-01-07 12:04:24 -0600] [140] [INFO] Booting worker with pid: 140\n"
     ]
    }
   ],
   "source": [
    "!sh ../scripts/start_server.sh"
   ]
  },
  {
   "cell_type": "code",
   "execution_count": null,
   "metadata": {},
   "outputs": [],
   "source": []
  }
 ],
 "metadata": {
  "kernelspec": {
   "display_name": "Python 3",
   "language": "python",
   "name": "python3"
  },
  "language_info": {
   "codemirror_mode": {
    "name": "ipython",
    "version": 3
   },
   "file_extension": ".py",
   "mimetype": "text/x-python",
   "name": "python",
   "nbconvert_exporter": "python",
   "pygments_lexer": "ipython3",
   "version": "3.8.1"
  }
 },
 "nbformat": 4,
 "nbformat_minor": 2
}
