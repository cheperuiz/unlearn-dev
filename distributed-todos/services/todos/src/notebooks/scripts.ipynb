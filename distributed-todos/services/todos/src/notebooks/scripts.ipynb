{
 "cells": [
  {
   "cell_type": "code",
   "execution_count": null,
   "metadata": {},
   "outputs": [
    {
     "name": "stdout",
     "output_type": "stream",
     "text": [
      "[2020-01-08 11:37:58 -0600] [28] [INFO] Starting gunicorn 20.0.4\r\n",
      "[2020-01-08 11:37:58 -0600] [28] [INFO] Listening at: http://0.0.0.0:5000 (28)\r\n",
      "[2020-01-08 11:37:58 -0600] [28] [INFO] Using worker: gthread\r\n",
      "[2020-01-08 11:37:58 -0600] [30] [INFO] Booting worker with pid: 30\r\n"
     ]
    }
   ],
   "source": [
    "!sh ../scripts/start_server.sh"
   ]
  },
  {
   "cell_type": "code",
   "execution_count": 3,
   "metadata": {},
   "outputs": [],
   "source": []
  },
  {
   "cell_type": "code",
   "execution_count": null,
   "metadata": {},
   "outputs": [
    {
     "name": "stdout",
     "output_type": "stream",
     "text": [
      "\u001b[1;36m \n",
      " -------------- celery@8b61d3f85c72 v4.4.0 (cliffs)\n",
      "--- ***** ----- \n",
      "-- ******* ---- Linux-4.9.184-linuxkit-x86_64-with-glibc2.2.5 2020-01-10 11:54:26\n",
      "- *** --- * --- \n",
      "- ** ---------- [config]\n",
      "- ** ---------- .> app:         worker:0x7f0ddf1272b0\n",
      "- ** ---------- .> transport:   redis://:**@redis:6379/0\n",
      "- ** ---------- .> results:     redis://:**@redis:6379/2\n",
      "- *** --- * --- .> concurrency: 8 (prefork)\n",
      "-- ******* ---- .> task events: OFF (enable -E to monitor tasks in this worker)\n",
      "--- ***** ----- \n",
      " -------------- [queues]\n",
      "                .> celery           exchange=celery(direct) key=celery\n",
      "                \n",
      "\u001b[0m\u001b[0m\u001b[0m\n",
      "\u001b[1;33m[2020-01-10 11:55:24,384: WARNING/ForkPoolWorker-7] /usr/local/lib/python3.8/site-packages/pymongo/topology.py:154: UserWarning: MongoClient opened before fork. Create MongoClient only after forking. See PyMongo's documentation for details: http://api.mongodb.org/python/current/faq.html#is-pymongo-fork-safe\n",
      "  warnings.warn(\u001b[0m\n",
      "\u001b[1;33m[2020-01-10 11:56:06,592: WARNING/ForkPoolWorker-8] /usr/local/lib/python3.8/site-packages/pymongo/topology.py:154: UserWarning: MongoClient opened before fork. Create MongoClient only after forking. See PyMongo's documentation for details: http://api.mongodb.org/python/current/faq.html#is-pymongo-fork-safe\n",
      "  warnings.warn(\u001b[0m\n",
      "\u001b[1;33m[2020-01-10 11:56:06,611: WARNING/ForkPoolWorker-1] /usr/local/lib/python3.8/site-packages/pymongo/topology.py:154: UserWarning: MongoClient opened before fork. Create MongoClient only after forking. See PyMongo's documentation for details: http://api.mongodb.org/python/current/faq.html#is-pymongo-fork-safe\n",
      "  warnings.warn(\u001b[0m\n",
      "\u001b[1;33m[2020-01-10 11:56:06,626: WARNING/ForkPoolWorker-3] /usr/local/lib/python3.8/site-packages/pymongo/topology.py:154: UserWarning: MongoClient opened before fork. Create MongoClient only after forking. See PyMongo's documentation for details: http://api.mongodb.org/python/current/faq.html#is-pymongo-fork-safe\n",
      "  warnings.warn(\u001b[0m\n",
      "\u001b[1;33m[2020-01-10 11:56:06,627: WARNING/ForkPoolWorker-2] /usr/local/lib/python3.8/site-packages/pymongo/topology.py:154: UserWarning: MongoClient opened before fork. Create MongoClient only after forking. See PyMongo's documentation for details: http://api.mongodb.org/python/current/faq.html#is-pymongo-fork-safe\n",
      "  warnings.warn(\u001b[0m\n",
      "\u001b[1;33m[2020-01-10 11:56:06,650: WARNING/ForkPoolWorker-4] /usr/local/lib/python3.8/site-packages/pymongo/topology.py:154: UserWarning: MongoClient opened before fork. Create MongoClient only after forking. See PyMongo's documentation for details: http://api.mongodb.org/python/current/faq.html#is-pymongo-fork-safe\n",
      "  warnings.warn(\u001b[0m\n",
      "\u001b[1;33m[2020-01-10 11:56:06,661: WARNING/ForkPoolWorker-5] /usr/local/lib/python3.8/site-packages/pymongo/topology.py:154: UserWarning: MongoClient opened before fork. Create MongoClient only after forking. See PyMongo's documentation for details: http://api.mongodb.org/python/current/faq.html#is-pymongo-fork-safe\n",
      "  warnings.warn(\u001b[0m\n",
      "\u001b[1;33m[2020-01-10 11:56:06,665: WARNING/ForkPoolWorker-6] /usr/local/lib/python3.8/site-packages/pymongo/topology.py:154: UserWarning: MongoClient opened before fork. Create MongoClient only after forking. See PyMongo's documentation for details: http://api.mongodb.org/python/current/faq.html#is-pymongo-fork-safe\n",
      "  warnings.warn(\u001b[0m\n"
     ]
    }
   ],
   "source": [
    "!cd ../tasks && celery -A worker -b redis://:redispassword@redis:6379/0 worker"
   ]
  },
  {
   "cell_type": "code",
   "execution_count": 6,
   "metadata": {},
   "outputs": [
    {
     "name": "stdout",
     "output_type": "stream",
     "text": [
      "/todos/notebooks\r\n"
     ]
    }
   ],
   "source": [
    "!pwd"
   ]
  },
  {
   "cell_type": "code",
   "execution_count": null,
   "metadata": {},
   "outputs": [],
   "source": []
  }
 ],
 "metadata": {
  "kernelspec": {
   "display_name": "Python 3",
   "language": "python",
   "name": "python3"
  },
  "language_info": {
   "codemirror_mode": {
    "name": "ipython",
    "version": 3
   },
   "file_extension": ".py",
   "mimetype": "text/x-python",
   "name": "python",
   "nbconvert_exporter": "python",
   "pygments_lexer": "ipython3",
   "version": "3.8.1"
  }
 },
 "nbformat": 4,
 "nbformat_minor": 2
}
