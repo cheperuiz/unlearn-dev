{
 "cells": [
  {
   "cell_type": "code",
   "execution_count": null,
   "metadata": {},
   "outputs": [
    {
     "name": "stdout",
     "output_type": "stream",
     "text": [
      "[2020-01-06 11:22:31 -0600] [98] [INFO] Starting gunicorn 20.0.4\n",
      "[2020-01-06 11:22:31 -0600] [98] [INFO] Listening at: http://0.0.0.0:5000 (98)\n",
      "[2020-01-06 11:22:31 -0600] [98] [INFO] Using worker: gthread\n",
      "[2020-01-06 11:22:31 -0600] [100] [INFO] Booting worker with pid: 100\n"
     ]
    }
   ],
   "source": [
    "!sh ../scripts/start_server.sh"
   ]
  },
  {
   "cell_type": "code",
   "execution_count": null,
   "metadata": {},
   "outputs": [],
   "source": []
  }
 ],
 "metadata": {
  "kernelspec": {
   "display_name": "Python 3",
   "language": "python",
   "name": "python3"
  },
  "language_info": {
   "codemirror_mode": {
    "name": "ipython",
    "version": 3
   },
   "file_extension": ".py",
   "mimetype": "text/x-python",
   "name": "python",
   "nbconvert_exporter": "python",
   "pygments_lexer": "ipython3",
   "version": "3.8.1"
  }
 },
 "nbformat": 4,
 "nbformat_minor": 2
}
