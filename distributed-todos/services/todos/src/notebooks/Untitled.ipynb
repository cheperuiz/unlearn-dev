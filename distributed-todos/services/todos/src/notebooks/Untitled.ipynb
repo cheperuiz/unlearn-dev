{
 "cells": [
  {
   "cell_type": "code",
   "execution_count": 1,
   "metadata": {},
   "outputs": [],
   "source": [
    "from app.api import flask_app, dao"
   ]
  },
  {
   "cell_type": "code",
   "execution_count": null,
   "metadata": {},
   "outputs": [
    {
     "name": "stdout",
     "output_type": "stream",
     "text": [
      "[2020-01-05 23:58:12 -0600] [130] [INFO] Starting gunicorn 20.0.4\n",
      "[2020-01-05 23:58:12 -0600] [130] [INFO] Listening at: http://0.0.0.0:5000 (130)\n",
      "[2020-01-05 23:58:12 -0600] [130] [INFO] Using worker: gthread\n",
      "[2020-01-05 23:58:12 -0600] [132] [INFO] Booting worker with pid: 132\n",
      "[2020-01-06 00:00:57 -0600] [132] [INFO] Worker reloading: /todos/app/api.py modified\n",
      "[2020-01-06 00:00:57 -0600] [132] [INFO] Worker exiting (pid: 132)\n",
      "[2020-01-06 00:00:57 -0600] [135] [INFO] Booting worker with pid: 135\n",
      "[2020-01-06 00:11:27 -0600] [135] [INFO] Worker reloading: /todos/app/api.py modified\n",
      "[2020-01-06 00:11:28 -0600] [135] [INFO] Worker exiting (pid: 135)\n",
      "[2020-01-06 00:11:28 -0600] [138] [INFO] Booting worker with pid: 138\n",
      "[2020-01-06 00:12:03 -0600] [138] [INFO] Worker reloading: /todos/app/api.py modified\n",
      "[2020-01-06 00:12:03 -0600] [138] [INFO] Worker exiting (pid: 138)\n",
      "[2020-01-06 00:12:03 -0600] [140] [INFO] Booting worker with pid: 140\n",
      "[2020-01-06 00:12:32 -0600] [140] [INFO] Worker reloading: /todos/app/api.py modified\n",
      "[2020-01-06 00:12:33 -0600] [140] [INFO] Worker exiting (pid: 140)\n",
      "[2020-01-06 00:12:33 -0600] [142] [INFO] Booting worker with pid: 142\n",
      "[2020-01-06 00:14:08 -0600] [142] [INFO] Worker reloading: /todos/app/api.py modified\n",
      "[2020-01-06 00:14:09 -0600] [142] [INFO] Worker exiting (pid: 142)\n",
      "[2020-01-06 00:14:09 -0600] [146] [INFO] Booting worker with pid: 146\n",
      "[2020-01-06 00:15:01 -0600] [146] [INFO] Worker reloading: /todos/app/api.py modified\n",
      "[2020-01-06 00:15:02 -0600] [146] [INFO] Worker exiting (pid: 146)\n",
      "[2020-01-06 00:15:02 -0600] [149] [INFO] Booting worker with pid: 149\n",
      "[2020-01-06 00:17:49 -0600] [149] [INFO] Worker reloading: /todos/app/api.py modified\n",
      "[2020-01-06 00:17:49 -0600] [149] [INFO] Worker exiting (pid: 149)\n",
      "[2020-01-06 00:17:49 -0600] [151] [INFO] Booting worker with pid: 151\n",
      "[2020-01-06 00:20:10,833] ERROR in app: Exception on /todos-api/v1/todos/ [POST]\n",
      "Traceback (most recent call last):\n",
      "  File \"/usr/local/lib/python3.8/site-packages/flask/app.py\", line 1949, in full_dispatch_request\n",
      "    rv = self.dispatch_request()\n",
      "  File \"/usr/local/lib/python3.8/site-packages/flask/app.py\", line 1935, in dispatch_request\n",
      "    return self.view_functions[rule.endpoint](**req.view_args)\n",
      "  File \"/usr/local/lib/python3.8/site-packages/flask_restplus/api.py\", line 325, in wrapper\n",
      "    resp = resource(*args, **kwargs)\n",
      "  File \"/usr/local/lib/python3.8/site-packages/flask/views.py\", line 89, in view\n",
      "    return self.dispatch_request(*args, **kwargs)\n",
      "  File \"/usr/local/lib/python3.8/site-packages/flask_restplus/resource.py\", line 44, in dispatch_request\n",
      "    resp = meth(*args, **kwargs)\n",
      "  File \"/todos/app/api.py\", line 31, in post\n",
      "    todo = todo_schema.load({\"user_id\": 0, \"title\": params[\"title\"]})\n",
      "  File \"/usr/local/lib/python3.8/site-packages/marshmallow/schema.py\", line 713, in load\n",
      "    return self._do_load(\n",
      "  File \"/usr/local/lib/python3.8/site-packages/marshmallow/schema.py\", line 892, in _do_load\n",
      "    raise exc\n",
      "marshmallow.exceptions.ValidationError: {'title': ['Field may not be null.']}\n",
      "[2020-01-06 00:22:41 -0600] [151] [INFO] Worker reloading: /todos/app/api.py modified\n",
      "[2020-01-06 00:22:42 -0600] [151] [INFO] Worker exiting (pid: 151)\n",
      "[2020-01-06 00:22:42 -0600] [157] [INFO] Booting worker with pid: 157\n",
      "[2020-01-06 00:24:32 -0600] [157] [INFO] Worker reloading: /todos/app/api.py modified\n",
      "[2020-01-06 00:24:33 -0600] [157] [INFO] Worker exiting (pid: 157)\n",
      "[2020-01-06 00:24:33 -0600] [160] [INFO] Booting worker with pid: 160\n",
      "[2020-01-06 07:34:12 -0600] [130] [CRITICAL] WORKER TIMEOUT (pid:160)\n",
      "[2020-01-06 07:34:12 -0600] [160] [INFO] Worker exiting (pid: 160)\n",
      "[2020-01-06 07:34:13 -0600] [164] [INFO] Booting worker with pid: 164\n",
      "[2020-01-06 07:38:53 -0600] [164] [INFO] Worker reloading: /todos/app/api.py modified\n",
      "[2020-01-06 07:38:54 -0600] [164] [INFO] Worker exiting (pid: 164)\n",
      "[2020-01-06 07:38:54 -0600] [166] [INFO] Booting worker with pid: 166\n",
      "[2020-01-06 07:39:03 -0600] [166] [INFO] Worker reloading: /todos/app/api.py modified\n",
      "[2020-01-06 07:39:04 -0600] [166] [INFO] Worker exiting (pid: 166)\n",
      "[2020-01-06 07:39:04 -0600] [168] [INFO] Booting worker with pid: 168\n",
      "[2020-01-06 07:39:33 -0600] [168] [INFO] Worker reloading: /todos/app/api.py modified\n",
      "[2020-01-06 07:39:34 -0600] [168] [INFO] Worker exiting (pid: 168)\n",
      "[2020-01-06 07:39:34 -0600] [172] [INFO] Booting worker with pid: 172\n"
     ]
    }
   ],
   "source": [
    "!cd /todos/scripts && sh start_server.sh"
   ]
  },
  {
   "cell_type": "code",
   "execution_count": 11,
   "metadata": {},
   "outputs": [],
   "source": [
    "from models.todo_dao import MockDao\n",
    "from models.todo import TodoSchema"
   ]
  },
  {
   "cell_type": "code",
   "execution_count": 12,
   "metadata": {},
   "outputs": [],
   "source": [
    "TODOS_DB = \"/todos/database/todos_db.json\"\n"
   ]
  },
  {
   "cell_type": "code",
   "execution_count": 13,
   "metadata": {},
   "outputs": [],
   "source": [
    "dao = MockDao(TODOS_DB, TodoSchema(many=True))"
   ]
  },
  {
   "cell_type": "code",
   "execution_count": 14,
   "metadata": {},
   "outputs": [
    {
     "data": {
      "text/plain": [
       "[]"
      ]
     },
     "execution_count": 14,
     "metadata": {},
     "output_type": "execute_result"
    }
   ],
   "source": [
    "dao.get_all()"
   ]
  },
  {
   "cell_type": "code",
   "execution_count": null,
   "metadata": {},
   "outputs": [],
   "source": []
  }
 ],
 "metadata": {
  "kernelspec": {
   "display_name": "Python 3",
   "language": "python",
   "name": "python3"
  },
  "language_info": {
   "codemirror_mode": {
    "name": "ipython",
    "version": 3
   },
   "file_extension": ".py",
   "mimetype": "text/x-python",
   "name": "python",
   "nbconvert_exporter": "python",
   "pygments_lexer": "ipython3",
   "version": "3.8.1"
  }
 },
 "nbformat": 4,
 "nbformat_minor": 2
}
