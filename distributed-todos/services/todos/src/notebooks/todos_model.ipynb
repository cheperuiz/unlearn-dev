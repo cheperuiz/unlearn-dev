{
 "cells": [
  {
   "cell_type": "code",
   "execution_count": 6,
   "metadata": {},
   "outputs": [],
   "source": [
    "from dataclasses import dataclass, field\n",
    "from marshmallow import Schema, fields, post_load, post_dump"
   ]
  },
  {
   "cell_type": "code",
   "execution_count": 7,
   "metadata": {},
   "outputs": [],
   "source": [
    "from uuid import uuid4\n",
    "\n",
    "def make_uuid(prefix):\n",
    "    def _make_uuid():\n",
    "        return '-'.join([prefix, str(uuid4())])\n",
    "    return _make_uuid"
   ]
  },
  {
   "cell_type": "code",
   "execution_count": 8,
   "metadata": {},
   "outputs": [],
   "source": [
    "@dataclass(order=True)\n",
    "class Todo:\n",
    "    user_id: int = field()\n",
    "    _id: int = field(compare=False, repr=False)\n",
    "    uuid: str = field()\n",
    "    title: str = field()\n",
    "    completed: bool = field(compare=False)\n",
    "        "
   ]
  },
  {
   "cell_type": "code",
   "execution_count": 9,
   "metadata": {},
   "outputs": [],
   "source": [
    "class TodoSchema(Schema):\n",
    "    user_id = fields.Integer()\n",
    "    _id = fields.Integer(missing=-1)\n",
    "    uuid = fields.String(missing=make_uuid('TODO'))\n",
    "    title = fields.String()\n",
    "    completed = fields.Boolean(missing=False)\n",
    "    \n",
    "    @post_load\n",
    "    def make_todo(self, data, **kwargs):\n",
    "        return Todo(**data)\n",
    "    \n",
    "    @post_dump\n",
    "    def maybe_remove_id(self, data, **kwargs):\n",
    "        if data['_id']==-1:\n",
    "            data.pop('_id')\n",
    "        return data"
   ]
  },
  {
   "cell_type": "code",
   "execution_count": 10,
   "metadata": {},
   "outputs": [],
   "source": [
    "t1 = TodoSchema().load({\n",
    "    'user_id': 1,\n",
    "    'title': 'Lorem ipsum',\n",
    "})\n",
    "\n",
    "t2 = TodoSchema().load({\n",
    "    'user_id': 0,\n",
    "    'title': 'Lorem ipsum',\n",
    "    'completed': True\n",
    "})\n",
    "\n",
    "t3 = TodoSchema().load({\n",
    "    'user_id': 0,\n",
    "    'title': 'Lorem ipsum dolor sit amet'\n",
    "})"
   ]
  },
  {
   "cell_type": "code",
   "execution_count": 11,
   "metadata": {},
   "outputs": [],
   "source": [
    "dumped  = TodoSchema().dump(t1)"
   ]
  },
  {
   "cell_type": "code",
   "execution_count": 12,
   "metadata": {},
   "outputs": [
    {
     "data": {
      "text/plain": [
       "{'uuid': 'TODO-8b1fb879-7f17-4d0a-8cfb-73b447bc917a',\n",
       " 'title': 'Lorem ipsum',\n",
       " 'user_id': 1,\n",
       " 'completed': False}"
      ]
     },
     "execution_count": 12,
     "metadata": {},
     "output_type": "execute_result"
    }
   ],
   "source": [
    "dumped"
   ]
  },
  {
   "cell_type": "code",
   "execution_count": 13,
   "metadata": {},
   "outputs": [
    {
     "data": {
      "text/plain": [
       "False"
      ]
     },
     "execution_count": 13,
     "metadata": {},
     "output_type": "execute_result"
    }
   ],
   "source": [
    "t1==t2"
   ]
  },
  {
   "cell_type": "code",
   "execution_count": 14,
   "metadata": {},
   "outputs": [
    {
     "data": {
      "text/plain": [
       "[Todo(user_id=0, uuid='TODO-6b6eb59f-6302-4bee-a4cc-f745f285deb1', title='Lorem ipsum dolor sit amet', completed=False),\n",
       " Todo(user_id=0, uuid='TODO-ac0f557a-f464-4a9f-85e5-8e8f8cb542c4', title='Lorem ipsum', completed=True),\n",
       " Todo(user_id=1, uuid='TODO-8b1fb879-7f17-4d0a-8cfb-73b447bc917a', title='Lorem ipsum', completed=False)]"
      ]
     },
     "execution_count": 14,
     "metadata": {},
     "output_type": "execute_result"
    }
   ],
   "source": [
    "todos = [t1,t2,t3]\n",
    "todos.sort()\n",
    "todos"
   ]
  },
  {
   "cell_type": "code",
   "execution_count": 15,
   "metadata": {},
   "outputs": [
    {
     "data": {
      "text/plain": [
       "[{'uuid': 'TODO-6b6eb59f-6302-4bee-a4cc-f745f285deb1',\n",
       "  'title': 'Lorem ipsum dolor sit amet',\n",
       "  'user_id': 0,\n",
       "  'completed': False},\n",
       " {'uuid': 'TODO-ac0f557a-f464-4a9f-85e5-8e8f8cb542c4',\n",
       "  'title': 'Lorem ipsum',\n",
       "  'user_id': 0,\n",
       "  'completed': True},\n",
       " {'uuid': 'TODO-8b1fb879-7f17-4d0a-8cfb-73b447bc917a',\n",
       "  'title': 'Lorem ipsum',\n",
       "  'user_id': 1,\n",
       "  'completed': False}]"
      ]
     },
     "execution_count": 15,
     "metadata": {},
     "output_type": "execute_result"
    }
   ],
   "source": [
    "todos_list = TodoSchema(many=True).dump(todos)\n",
    "todos_list"
   ]
  },
  {
   "cell_type": "code",
   "execution_count": 16,
   "metadata": {},
   "outputs": [
    {
     "data": {
      "text/plain": [
       "[Todo(user_id=0, uuid='TODO-6b6eb59f-6302-4bee-a4cc-f745f285deb1', title='Lorem ipsum dolor sit amet', completed=False),\n",
       " Todo(user_id=0, uuid='TODO-ac0f557a-f464-4a9f-85e5-8e8f8cb542c4', title='Lorem ipsum', completed=True),\n",
       " Todo(user_id=1, uuid='TODO-8b1fb879-7f17-4d0a-8cfb-73b447bc917a', title='Lorem ipsum', completed=False)]"
      ]
     },
     "execution_count": 16,
     "metadata": {},
     "output_type": "execute_result"
    }
   ],
   "source": [
    "TodoSchema(many=True).load(todos_list)"
   ]
  },
  {
   "cell_type": "code",
   "execution_count": 17,
   "metadata": {},
   "outputs": [],
   "source": [
    "import json\n",
    "\n",
    "class MockDao:\n",
    "    \n",
    "    def __init__(self, path, schema):\n",
    "        self._path = path\n",
    "        self._schema = schema\n",
    "        try:\n",
    "            with open(self._path,'r') as f:\n",
    "                self._items=self._schema.load(json.load(f))\n",
    "        except:\n",
    "            self._items = []\n",
    "    \n",
    "    def get_all(self):\n",
    "        return self._items\n",
    "    \n",
    "    def get_by_uuid(self, uuid):\n",
    "        item = [t for t in self._items if t.uuid==uuid]\n",
    "        return item[0] if item else None\n",
    "    \n",
    "    def add_item(self, item):\n",
    "        self._items.append(item)\n",
    "        self._replace_file()\n",
    "        \n",
    "    def delete_by_uuid(self, uuid):\n",
    "        item = [t for t in self._items if t.uuid==uuid]\n",
    "        if item:\n",
    "            self._items.pop(self._items.index(item[0]))\n",
    "        self._replace_file()\n",
    "            \n",
    "    def update_item_by_uuid(self, uuid, data):\n",
    "        item = self.get_by_uuid(uuid)\n",
    "        for k,v in data.items():\n",
    "            setattr(item,k,v)\n",
    "        self._replace_file()\n",
    "        \n",
    "    def _replace_file(self):\n",
    "        with open(self._path, 'w') as f:\n",
    "            serialized = self._schema.dump(self._items)\n",
    "            json.dump(serialized,f)\n",
    "        \n",
    "    def clear(self):\n",
    "        self._items = []\n",
    "        self._replace_file()"
   ]
  },
  {
   "cell_type": "code",
   "execution_count": 26,
   "metadata": {},
   "outputs": [],
   "source": [
    "TODOS_DB = \"/todos/database/todos_db.json\"\n",
    "dao = MockDao(TODOS_DB, TodoSchema(many=True))\n",
    "# dao.clear()"
   ]
  },
  {
   "cell_type": "code",
   "execution_count": 29,
   "metadata": {},
   "outputs": [
    {
     "data": {
      "text/plain": [
       "[Todo(user_id=0, uuid='TODO-6b6eb59f-6302-4bee-a4cc-f745f285deb1', title='Lorem ipsum dolor sit amet', completed=False),\n",
       " Todo(user_id=0, uuid='TODO-ac0f557a-f464-4a9f-85e5-8e8f8cb542c4', title='Lorem ipsum', completed=True),\n",
       " Todo(user_id=1, uuid='TODO-8b1fb879-7f17-4d0a-8cfb-73b447bc917a', title='Lorem ipsum', completed=False)]"
      ]
     },
     "execution_count": 29,
     "metadata": {},
     "output_type": "execute_result"
    }
   ],
   "source": [
    "dao.get_all()"
   ]
  },
  {
   "cell_type": "code",
   "execution_count": 28,
   "metadata": {},
   "outputs": [],
   "source": [
    "schema = TodoSchema(many=True)\n",
    "copied_todos = schema.load(schema.dump(todos))\n",
    "for t in copied_todos:\n",
    "    dao.add_item(t) "
   ]
  },
  {
   "cell_type": "code",
   "execution_count": 41,
   "metadata": {},
   "outputs": [
    {
     "data": {
      "text/plain": [
       "False"
      ]
     },
     "execution_count": 41,
     "metadata": {},
     "output_type": "execute_result"
    }
   ],
   "source": [
    "dao._items[2] is todos[2]"
   ]
  },
  {
   "cell_type": "code",
   "execution_count": 42,
   "metadata": {},
   "outputs": [
    {
     "data": {
      "text/plain": [
       "True"
      ]
     },
     "execution_count": 42,
     "metadata": {},
     "output_type": "execute_result"
    }
   ],
   "source": [
    "dao._items[2] == todos[2]"
   ]
  },
  {
   "cell_type": "code",
   "execution_count": 43,
   "metadata": {},
   "outputs": [
    {
     "data": {
      "text/plain": [
       "[Todo(user_id=0, uuid='TODO-33511623-37d8-49e4-96cf-bb0abdc3ef8e', title='Lorem ipsum dolor sit amet', completed=False),\n",
       " Todo(user_id=0, uuid='TODO-5b4542ea-1b5f-4936-bee3-feeb3d178666', title='Lorem ipsum', completed=True),\n",
       " Todo(user_id=1, uuid='TODO-d7af4c5f-bd21-4bfc-8368-451a130a078c', title='Lorem ipsum', completed=False)]"
      ]
     },
     "execution_count": 43,
     "metadata": {},
     "output_type": "execute_result"
    }
   ],
   "source": [
    "dao.get_all()"
   ]
  },
  {
   "cell_type": "code",
   "execution_count": 30,
   "metadata": {},
   "outputs": [
    {
     "data": {
      "text/plain": [
       "Todo(user_id=1, uuid='TODO-8b1fb879-7f17-4d0a-8cfb-73b447bc917a', title='Lorem ipsum', completed=False)"
      ]
     },
     "execution_count": 30,
     "metadata": {},
     "output_type": "execute_result"
    }
   ],
   "source": [
    "dao.get_by_uuid(todos[2].uuid)"
   ]
  },
  {
   "cell_type": "code",
   "execution_count": 45,
   "metadata": {},
   "outputs": [],
   "source": [
    "dao.delete_by_uuid(todos[0].uuid)"
   ]
  },
  {
   "cell_type": "code",
   "execution_count": 46,
   "metadata": {},
   "outputs": [
    {
     "data": {
      "text/plain": [
       "[Todo(user_id=0, uuid='TODO-5b4542ea-1b5f-4936-bee3-feeb3d178666', title='Lorem ipsum', completed=True),\n",
       " Todo(user_id=1, uuid='TODO-d7af4c5f-bd21-4bfc-8368-451a130a078c', title='Lorem ipsum', completed=False)]"
      ]
     },
     "execution_count": 46,
     "metadata": {},
     "output_type": "execute_result"
    }
   ],
   "source": [
    "dao.get_all()"
   ]
  },
  {
   "cell_type": "code",
   "execution_count": 47,
   "metadata": {},
   "outputs": [],
   "source": [
    "dao.update_item_by_uuid(todos[2].uuid, {'user_id':0})"
   ]
  },
  {
   "cell_type": "code",
   "execution_count": 225,
   "metadata": {},
   "outputs": [
    {
     "data": {
      "text/plain": [
       "[Todo(user_id=0, uuid='TODO-ed8f3d80-9a62-4326-ac7b-c5411e7e8113', title='Lorem ipsum dolor sit amet', completed=False),\n",
       " Todo(user_id=0, uuid='TODO-43ddbf6e-d5ca-4a8c-8f61-033ea59f3d50', title='Lorem ipsum', completed=False)]"
      ]
     },
     "execution_count": 225,
     "metadata": {},
     "output_type": "execute_result"
    }
   ],
   "source": [
    "dao.get_all()"
   ]
  },
  {
   "cell_type": "code",
   "execution_count": 163,
   "metadata": {},
   "outputs": [
    {
     "data": {
      "text/plain": [
       "[Todo(user_id=0, uuid='TODO-56b06af7-45e3-413f-84bc-895abb99bdb3', title='Lorem ipsum', completed=True),\n",
       " Todo(user_id=0, uuid='TODO-ed8f3d80-9a62-4326-ac7b-c5411e7e8113', title='Lorem ipsum dolor sit amet', completed=False),\n",
       " Todo(user_id=0, uuid='TODO-43ddbf6e-d5ca-4a8c-8f61-033ea59f3d50', title='Lorem ipsum', completed=False)]"
      ]
     },
     "execution_count": 163,
     "metadata": {},
     "output_type": "execute_result"
    }
   ],
   "source": [
    "todos"
   ]
  },
  {
   "cell_type": "code",
   "execution_count": null,
   "metadata": {},
   "outputs": [],
   "source": []
  }
 ],
 "metadata": {
  "kernelspec": {
   "display_name": "Python 3",
   "language": "python",
   "name": "python3"
  },
  "language_info": {
   "codemirror_mode": {
    "name": "ipython",
    "version": 3
   },
   "file_extension": ".py",
   "mimetype": "text/x-python",
   "name": "python",
   "nbconvert_exporter": "python",
   "pygments_lexer": "ipython3",
   "version": "3.8.1"
  }
 },
 "nbformat": 4,
 "nbformat_minor": 2
}
