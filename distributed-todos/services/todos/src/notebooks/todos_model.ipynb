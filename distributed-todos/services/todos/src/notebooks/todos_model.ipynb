{
 "cells": [
  {
   "cell_type": "code",
   "execution_count": 26,
   "metadata": {},
   "outputs": [],
   "source": [
    "from dataclasses import dataclass, field\n",
    "from marshmallow import Schema, fields, post_load, post_dump"
   ]
  },
  {
   "cell_type": "code",
   "execution_count": 27,
   "metadata": {},
   "outputs": [],
   "source": [
    "from uuid import uuid4\n",
    "\n",
    "def make_uuid(prefix):\n",
    "    def _make_uuid():\n",
    "        return '-'.join([prefix, str(uuid4())])\n",
    "    return _make_uuid"
   ]
  },
  {
   "cell_type": "code",
   "execution_count": 28,
   "metadata": {},
   "outputs": [],
   "source": [
    "@dataclass(order=True)\n",
    "class Todo:\n",
    "    user_id: int = field()\n",
    "    _id: int = field(compare=False, repr=False)\n",
    "    uuid: str = field()\n",
    "    title: str = field()\n",
    "    completed: bool = field(compare=False)\n",
    "        "
   ]
  },
  {
   "cell_type": "code",
   "execution_count": 29,
   "metadata": {},
   "outputs": [],
   "source": [
    "class TodoSchema(Schema):\n",
    "    user_id = fields.Integer()\n",
    "    _id = fields.Integer(missing=-1)\n",
    "    uuid = fields.String(missing=make_uuid('TODO'))\n",
    "    title = fields.String()\n",
    "    completed = fields.Boolean(missing=False)\n",
    "    \n",
    "    @post_load\n",
    "    def make_todo(self, data, **kwargs):\n",
    "        return Todo(**data)\n",
    "    \n",
    "    @post_dump\n",
    "    def maybe_remove_id(self, data, **kwargs):\n",
    "        if data['_id']==-1:\n",
    "            data.pop('_id')\n",
    "        return data"
   ]
  },
  {
   "cell_type": "code",
   "execution_count": 30,
   "metadata": {},
   "outputs": [],
   "source": [
    "t1 = TodoSchema().load({\n",
    "    'user_id': 1,\n",
    "    'title': 'Lorem ipsum',\n",
    "})\n",
    "\n",
    "t2 = TodoSchema().load({\n",
    "    'user_id': 0,\n",
    "    'title': 'Lorem ipsum',\n",
    "    'completed': True\n",
    "})\n",
    "\n",
    "t3 = TodoSchema().load({\n",
    "    'user_id': 0,\n",
    "    'title': 'Lorem ipsum dolor sit amet'\n",
    "})"
   ]
  },
  {
   "cell_type": "code",
   "execution_count": 31,
   "metadata": {},
   "outputs": [],
   "source": [
    "dumped  = TodoSchema().dump(t1)"
   ]
  },
  {
   "cell_type": "code",
   "execution_count": 32,
   "metadata": {},
   "outputs": [
    {
     "data": {
      "text/plain": [
       "{'user_id': 1,\n",
       " 'title': 'Lorem ipsum',\n",
       " 'uuid': 'TODO-275eaff5-b2b4-41a6-a743-29be1a8474c8',\n",
       " 'completed': False}"
      ]
     },
     "execution_count": 32,
     "metadata": {},
     "output_type": "execute_result"
    }
   ],
   "source": [
    "dumped"
   ]
  },
  {
   "cell_type": "code",
   "execution_count": 33,
   "metadata": {},
   "outputs": [
    {
     "data": {
      "text/plain": [
       "False"
      ]
     },
     "execution_count": 33,
     "metadata": {},
     "output_type": "execute_result"
    }
   ],
   "source": [
    "t1==t2"
   ]
  },
  {
   "cell_type": "code",
   "execution_count": 34,
   "metadata": {},
   "outputs": [
    {
     "data": {
      "text/plain": [
       "[Todo(user_id=0, uuid='TODO-171788ee-dc40-4d9c-8c1b-558c5fe1d52e', title='Lorem ipsum dolor sit amet', completed=False),\n",
       " Todo(user_id=0, uuid='TODO-b3e6b755-c5c2-41ea-8bdb-dfc3d889961e', title='Lorem ipsum', completed=True),\n",
       " Todo(user_id=1, uuid='TODO-275eaff5-b2b4-41a6-a743-29be1a8474c8', title='Lorem ipsum', completed=False)]"
      ]
     },
     "execution_count": 34,
     "metadata": {},
     "output_type": "execute_result"
    }
   ],
   "source": [
    "todos = [t1,t2,t3]\n",
    "todos.sort()\n",
    "todos"
   ]
  },
  {
   "cell_type": "code",
   "execution_count": 35,
   "metadata": {},
   "outputs": [
    {
     "data": {
      "text/plain": [
       "[{'user_id': 0,\n",
       "  'title': 'Lorem ipsum dolor sit amet',\n",
       "  'uuid': 'TODO-171788ee-dc40-4d9c-8c1b-558c5fe1d52e',\n",
       "  'completed': False},\n",
       " {'user_id': 0,\n",
       "  'title': 'Lorem ipsum',\n",
       "  'uuid': 'TODO-b3e6b755-c5c2-41ea-8bdb-dfc3d889961e',\n",
       "  'completed': True},\n",
       " {'user_id': 1,\n",
       "  'title': 'Lorem ipsum',\n",
       "  'uuid': 'TODO-275eaff5-b2b4-41a6-a743-29be1a8474c8',\n",
       "  'completed': False}]"
      ]
     },
     "execution_count": 35,
     "metadata": {},
     "output_type": "execute_result"
    }
   ],
   "source": [
    "todos_list = TodoSchema(many=True).dump(todos)\n",
    "todos_list"
   ]
  },
  {
   "cell_type": "code",
   "execution_count": 36,
   "metadata": {},
   "outputs": [
    {
     "data": {
      "text/plain": [
       "[Todo(user_id=0, uuid='TODO-171788ee-dc40-4d9c-8c1b-558c5fe1d52e', title='Lorem ipsum dolor sit amet', completed=False),\n",
       " Todo(user_id=0, uuid='TODO-b3e6b755-c5c2-41ea-8bdb-dfc3d889961e', title='Lorem ipsum', completed=True),\n",
       " Todo(user_id=1, uuid='TODO-275eaff5-b2b4-41a6-a743-29be1a8474c8', title='Lorem ipsum', completed=False)]"
      ]
     },
     "execution_count": 36,
     "metadata": {},
     "output_type": "execute_result"
    }
   ],
   "source": [
    "TodoSchema(many=True).load(todos_list)"
   ]
  },
  {
   "cell_type": "code",
   "execution_count": 37,
   "metadata": {},
   "outputs": [],
   "source": [
    "import json\n",
    "\n",
    "class MockDao:\n",
    "    \n",
    "    def __init__(self, path, schema):\n",
    "        self._path = path\n",
    "        self._schema = schema\n",
    "        try:\n",
    "            with open(self._path,'r') as f:\n",
    "                self._items=self._schema.load(json.load(f))\n",
    "        except:\n",
    "            self._items = []\n",
    "    \n",
    "    def get_all(self):\n",
    "        return self._items\n",
    "    \n",
    "    def get_by_uuid(self, uuid):\n",
    "        item = [t for t in self._items if t.uuid==uuid]\n",
    "        return item[0] if item else None\n",
    "    \n",
    "    def add_item(self, item):\n",
    "        self._items.append(item)\n",
    "        self._replace_file()\n",
    "        \n",
    "    def delete_by_uuid(self, uuid):\n",
    "        item = [t for t in self._items if t.uuid==uuid]\n",
    "        if item:\n",
    "            self._items.pop(self._items.index(item[0]))\n",
    "        self._replace_file()\n",
    "            \n",
    "    def update_item_by_uuid(self, uuid, data):\n",
    "        item = self.get_by_uuid(uuid)\n",
    "        for k,v in data.items():\n",
    "            setattr(item,k,v)\n",
    "        self._replace_file()\n",
    "        \n",
    "    def _replace_file(self):\n",
    "        with open(self._path, 'w') as f:\n",
    "            serialized = self._schema.dump(self._items)\n",
    "            json.dump(serialized,f)\n",
    "        \n",
    "    def clear(self):\n",
    "        self._items = []\n",
    "        self._replace_file()"
   ]
  },
  {
   "cell_type": "code",
   "execution_count": 51,
   "metadata": {},
   "outputs": [],
   "source": [
    "TODOS_DB = \"/todos/database/todos_db.json\"\n",
    "dao = MockDao(TODOS_DB, TodoSchema(many=True))\n",
    "dao.clear()"
   ]
  },
  {
   "cell_type": "code",
   "execution_count": 52,
   "metadata": {},
   "outputs": [
    {
     "data": {
      "text/plain": [
       "[]"
      ]
     },
     "execution_count": 52,
     "metadata": {},
     "output_type": "execute_result"
    }
   ],
   "source": [
    "dao.get_all()"
   ]
  },
  {
   "cell_type": "code",
   "execution_count": 53,
   "metadata": {},
   "outputs": [
    {
     "data": {
      "text/plain": [
       "[Todo(user_id=0, uuid='TODO-171788ee-dc40-4d9c-8c1b-558c5fe1d52e', title='Lorem ipsum dolor sit amet', completed=False),\n",
       " Todo(user_id=0, uuid='TODO-b3e6b755-c5c2-41ea-8bdb-dfc3d889961e', title='Lorem ipsum', completed=True),\n",
       " Todo(user_id=1, uuid='TODO-275eaff5-b2b4-41a6-a743-29be1a8474c8', title='Lorem ipsum', completed=False)]"
      ]
     },
     "execution_count": 53,
     "metadata": {},
     "output_type": "execute_result"
    }
   ],
   "source": [
    "todos"
   ]
  },
  {
   "cell_type": "code",
   "execution_count": 54,
   "metadata": {},
   "outputs": [],
   "source": [
    "schema = TodoSchema(many=True)\n",
    "copied_todos = schema.load(schema.dump(todos))\n",
    "for t in copied_todos:\n",
    "    dao.add_item(t) "
   ]
  },
  {
   "cell_type": "code",
   "execution_count": 55,
   "metadata": {},
   "outputs": [
    {
     "data": {
      "text/plain": [
       "False"
      ]
     },
     "execution_count": 55,
     "metadata": {},
     "output_type": "execute_result"
    }
   ],
   "source": [
    "dao._items[2] is todos[2]"
   ]
  },
  {
   "cell_type": "code",
   "execution_count": 56,
   "metadata": {},
   "outputs": [
    {
     "data": {
      "text/plain": [
       "True"
      ]
     },
     "execution_count": 56,
     "metadata": {},
     "output_type": "execute_result"
    }
   ],
   "source": [
    "dao._items[2] == todos[2]"
   ]
  },
  {
   "cell_type": "code",
   "execution_count": 57,
   "metadata": {},
   "outputs": [
    {
     "data": {
      "text/plain": [
       "[Todo(user_id=0, uuid='TODO-171788ee-dc40-4d9c-8c1b-558c5fe1d52e', title='Lorem ipsum dolor sit amet', completed=False),\n",
       " Todo(user_id=0, uuid='TODO-b3e6b755-c5c2-41ea-8bdb-dfc3d889961e', title='Lorem ipsum', completed=True),\n",
       " Todo(user_id=1, uuid='TODO-275eaff5-b2b4-41a6-a743-29be1a8474c8', title='Lorem ipsum', completed=False)]"
      ]
     },
     "execution_count": 57,
     "metadata": {},
     "output_type": "execute_result"
    }
   ],
   "source": [
    "dao.get_all()"
   ]
  },
  {
   "cell_type": "code",
   "execution_count": 58,
   "metadata": {},
   "outputs": [
    {
     "data": {
      "text/plain": [
       "Todo(user_id=1, uuid='TODO-275eaff5-b2b4-41a6-a743-29be1a8474c8', title='Lorem ipsum', completed=False)"
      ]
     },
     "execution_count": 58,
     "metadata": {},
     "output_type": "execute_result"
    }
   ],
   "source": [
    "dao.get_by_uuid(todos[2].uuid)"
   ]
  },
  {
   "cell_type": "code",
   "execution_count": 59,
   "metadata": {},
   "outputs": [],
   "source": [
    "dao.delete_by_uuid(todos[0].uuid)"
   ]
  },
  {
   "cell_type": "code",
   "execution_count": 62,
   "metadata": {},
   "outputs": [
    {
     "data": {
      "text/plain": [
       "[Todo(user_id=0, uuid='TODO-b3e6b755-c5c2-41ea-8bdb-dfc3d889961e', title='Lorem ipsum', completed=True),\n",
       " Todo(user_id=0, uuid='TODO-275eaff5-b2b4-41a6-a743-29be1a8474c8', title='Lorem ipsum', completed=False)]"
      ]
     },
     "execution_count": 62,
     "metadata": {},
     "output_type": "execute_result"
    }
   ],
   "source": [
    "dao.get_all()"
   ]
  },
  {
   "cell_type": "code",
   "execution_count": 61,
   "metadata": {},
   "outputs": [],
   "source": [
    "dao.update_item_by_uuid(todos[2].uuid, {'user_id':0})"
   ]
  },
  {
   "cell_type": "code",
   "execution_count": null,
   "metadata": {},
   "outputs": [],
   "source": [
    "dao.get_all()"
   ]
  },
  {
   "cell_type": "code",
   "execution_count": null,
   "metadata": {},
   "outputs": [],
   "source": [
    "todos"
   ]
  },
  {
   "cell_type": "code",
   "execution_count": 82,
   "metadata": {},
   "outputs": [],
   "source": [
    "class MyClass:\n",
    "    \n",
    "    def __init__(self, visible, hidden):\n",
    "        self.visible = visible\n",
    "        self.__hidden = hidden\n",
    "        \n",
    "    def get_hidden(self):\n",
    "        return self.__hidden\n",
    "    \n",
    "class MyOtherClass(MyClass):\n",
    "    def __init__(self, visible, hidden):\n",
    "        super().__init__(visible, hidden)\n",
    "        self.__hidden = 3"
   ]
  },
  {
   "cell_type": "code",
   "execution_count": 83,
   "metadata": {},
   "outputs": [],
   "source": [
    "b = MyOtherClass(10,100)"
   ]
  },
  {
   "cell_type": "code",
   "execution_count": 85,
   "metadata": {},
   "outputs": [
    {
     "data": {
      "text/plain": [
       "100"
      ]
     },
     "execution_count": 85,
     "metadata": {},
     "output_type": "execute_result"
    }
   ],
   "source": [
    "b.get_hidden()"
   ]
  },
  {
   "cell_type": "code",
   "execution_count": 86,
   "metadata": {},
   "outputs": [
    {
     "data": {
      "text/plain": [
       "['_MyClass__hidden',\n",
       " '_MyOtherClass__hidden',\n",
       " '__class__',\n",
       " '__delattr__',\n",
       " '__dict__',\n",
       " '__dir__',\n",
       " '__doc__',\n",
       " '__eq__',\n",
       " '__format__',\n",
       " '__ge__',\n",
       " '__getattribute__',\n",
       " '__gt__',\n",
       " '__hash__',\n",
       " '__init__',\n",
       " '__init_subclass__',\n",
       " '__le__',\n",
       " '__lt__',\n",
       " '__module__',\n",
       " '__ne__',\n",
       " '__new__',\n",
       " '__reduce__',\n",
       " '__reduce_ex__',\n",
       " '__repr__',\n",
       " '__setattr__',\n",
       " '__sizeof__',\n",
       " '__str__',\n",
       " '__subclasshook__',\n",
       " '__weakref__',\n",
       " 'get_hidden',\n",
       " 'visible']"
      ]
     },
     "execution_count": 86,
     "metadata": {},
     "output_type": "execute_result"
    }
   ],
   "source": [
    "dir(b)"
   ]
  },
  {
   "cell_type": "code",
   "execution_count": 72,
   "metadata": {},
   "outputs": [],
   "source": [
    "a = MyClass(10,100)"
   ]
  },
  {
   "cell_type": "code",
   "execution_count": 73,
   "metadata": {},
   "outputs": [
    {
     "data": {
      "text/plain": [
       "100"
      ]
     },
     "execution_count": 73,
     "metadata": {},
     "output_type": "execute_result"
    }
   ],
   "source": [
    "a.get_hidden()"
   ]
  },
  {
   "cell_type": "code",
   "execution_count": 76,
   "metadata": {},
   "outputs": [
    {
     "data": {
      "text/plain": [
       "100"
      ]
     },
     "execution_count": 76,
     "metadata": {},
     "output_type": "execute_result"
    }
   ],
   "source": [
    "a._MyClass__hidden"
   ]
  },
  {
   "cell_type": "code",
   "execution_count": null,
   "metadata": {},
   "outputs": [],
   "source": []
  }
 ],
 "metadata": {
  "kernelspec": {
   "display_name": "Python 3",
   "language": "python",
   "name": "python3"
  },
  "language_info": {
   "codemirror_mode": {
    "name": "ipython",
    "version": 3
   },
   "file_extension": ".py",
   "mimetype": "text/x-python",
   "name": "python",
   "nbconvert_exporter": "python",
   "pygments_lexer": "ipython3",
   "version": "3.8.1"
  }
 },
 "nbformat": 4,
 "nbformat_minor": 2
}
