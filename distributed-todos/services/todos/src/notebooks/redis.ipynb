{
 "cells": [
  {
   "cell_type": "code",
   "execution_count": 13,
   "metadata": {},
   "outputs": [],
   "source": [
    "import yaml\n",
    "\n",
    "from redis import Redis\n",
    "from lib.common import make_url, replace_env"
   ]
  },
  {
   "cell_type": "code",
   "execution_count": 14,
   "metadata": {},
   "outputs": [
    {
     "data": {
      "text/plain": [
       "{'database': {'mongo': {'type': 'mongodb',\n",
       "   'host': 'mongo',\n",
       "   'user': 'mongouser',\n",
       "   'password': 'averysecurepassword',\n",
       "   'port': '27017',\n",
       "   'db': 'todos_db'},\n",
       "  'redis': {'type': 'redis',\n",
       "   'host': 'redis',\n",
       "   'port': '6379',\n",
       "   'user': '',\n",
       "   'password': 'redispassword',\n",
       "   'db': '1'}}}"
      ]
     },
     "execution_count": 14,
     "metadata": {},
     "output_type": "execute_result"
    }
   ],
   "source": [
    "CONFIG = '/config/todos/default_config.yml'\n",
    "with open(CONFIG) as f:\n",
    "    config = yaml.load(f,yaml.SafeLoader)\n",
    "replace_env(config)"
   ]
  },
  {
   "cell_type": "code",
   "execution_count": 15,
   "metadata": {},
   "outputs": [],
   "source": [
    "redis_config = config['database']['redis']"
   ]
  },
  {
   "cell_type": "code",
   "execution_count": 16,
   "metadata": {},
   "outputs": [],
   "source": [
    "r = Redis(host=redis_config[\"host\"],\n",
    "    port=redis_config[\"port\"],\n",
    "    db=redis_config[\"db\"],\n",
    "    password=redis_config[\"password\"])"
   ]
  },
  {
   "cell_type": "code",
   "execution_count": 17,
   "metadata": {},
   "outputs": [
    {
     "data": {
      "text/plain": [
       "[]"
      ]
     },
     "execution_count": 17,
     "metadata": {},
     "output_type": "execute_result"
    }
   ],
   "source": [
    "r.keys()"
   ]
  },
  {
   "cell_type": "code",
   "execution_count": 22,
   "metadata": {},
   "outputs": [
    {
     "data": {
      "text/plain": [
       "True"
      ]
     },
     "execution_count": 22,
     "metadata": {},
     "output_type": "execute_result"
    }
   ],
   "source": [
    "r.set('mkay','Helloooo', ex=10)"
   ]
  },
  {
   "cell_type": "code",
   "execution_count": 27,
   "metadata": {},
   "outputs": [],
   "source": [
    "r.get('mkay')"
   ]
  },
  {
   "cell_type": "code",
   "execution_count": 29,
   "metadata": {},
   "outputs": [],
   "source": [
    "d = {\n",
    "    'a thing': 'here',\n",
    "    'a number': 10\n",
    "}"
   ]
  },
  {
   "cell_type": "code",
   "execution_count": 32,
   "metadata": {},
   "outputs": [
    {
     "data": {
      "text/plain": [
       "True"
      ]
     },
     "execution_count": 32,
     "metadata": {},
     "output_type": "execute_result"
    }
   ],
   "source": [
    "r.hmset('dic1',d)"
   ]
  },
  {
   "cell_type": "code",
   "execution_count": 35,
   "metadata": {},
   "outputs": [
    {
     "data": {
      "text/plain": [
       "{b'a thing': b'here', b'a number': b'10'}"
      ]
     },
     "execution_count": 35,
     "metadata": {},
     "output_type": "execute_result"
    }
   ],
   "source": [
    "r.hgetall('dic1')"
   ]
  },
  {
   "cell_type": "code",
   "execution_count": 53,
   "metadata": {},
   "outputs": [],
   "source": [
    "d = {\n",
    "    'uuid-1':{\n",
    "        'val1':'value 1',\n",
    "        'val2':'value 2'\n",
    "    },'uuid-2':{\n",
    "        'val1':'value 1',\n",
    "        'val2':'value 2'\n",
    "    },\n",
    "}"
   ]
  },
  {
   "cell_type": "code",
   "execution_count": 55,
   "metadata": {},
   "outputs": [
    {
     "data": {
      "text/plain": [
       "{'uuid-1': {'val1': 'value 1', 'val2': 'value 2'},\n",
       " 'uuid-2': {'val1': 'value 1', 'val2': 'value 2'}}"
      ]
     },
     "execution_count": 55,
     "metadata": {},
     "output_type": "execute_result"
    }
   ],
   "source": [
    "json.loads(json.dumps(d))"
   ]
  },
  {
   "cell_type": "code",
   "execution_count": 68,
   "metadata": {},
   "outputs": [],
   "source": [
    "def redis_cachable(name,timeout=30):\n",
    "    def _set_name(f):\n",
    "        def _redis_cachable(self,uuid):\n",
    "            key_name = name + '-' + uuid\n",
    "            if r.exists(key_name):\n",
    "                s = r.get(key_name)\n",
    "                return json.loads(s)\n",
    "            result = f(self,uuid)\n",
    "            print(result)\n",
    "            s = json.dumps(result)\n",
    "            r.set(key_name,s,ex=timeout)\n",
    "            return result\n",
    "        return _redis_cachable\n",
    "    return _set_name\n",
    "        "
   ]
  },
  {
   "cell_type": "code",
   "execution_count": 93,
   "metadata": {},
   "outputs": [],
   "source": [
    "import time\n",
    "import json\n",
    "\n",
    "class Resource:\n",
    "    @redis_cachable('RESOURCE-GET',2)\n",
    "    def get(self,uuid):\n",
    "        return {'time': str(time.time())}\n",
    "    "
   ]
  },
  {
   "cell_type": "code",
   "execution_count": 80,
   "metadata": {},
   "outputs": [],
   "source": [
    "res = Resource()"
   ]
  },
  {
   "cell_type": "code",
   "execution_count": 92,
   "metadata": {},
   "outputs": [
    {
     "name": "stdout",
     "output_type": "stream",
     "text": [
      "called\n",
      "{'time': '1578499577.8837018'}\n"
     ]
    },
    {
     "data": {
      "text/plain": [
       "{'time': '1578499577.8837018'}"
      ]
     },
     "execution_count": 92,
     "metadata": {},
     "output_type": "execute_result"
    }
   ],
   "source": [
    "res.get('some-id')"
   ]
  },
  {
   "cell_type": "code",
   "execution_count": null,
   "metadata": {},
   "outputs": [],
   "source": []
  }
 ],
 "metadata": {
  "kernelspec": {
   "display_name": "Python 3",
   "language": "python",
   "name": "python3"
  },
  "language_info": {
   "codemirror_mode": {
    "name": "ipython",
    "version": 3
   },
   "file_extension": ".py",
   "mimetype": "text/x-python",
   "name": "python",
   "nbconvert_exporter": "python",
   "pygments_lexer": "ipython3",
   "version": "3.8.1"
  }
 },
 "nbformat": 4,
 "nbformat_minor": 2
}
