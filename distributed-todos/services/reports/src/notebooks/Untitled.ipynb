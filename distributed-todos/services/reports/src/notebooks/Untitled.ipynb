{
 "cells": [
  {
   "cell_type": "code",
   "execution_count": 1,
   "metadata": {},
   "outputs": [],
   "source": [
    "import yaml\n",
    "\n",
    "from celery import Celery\n",
    "from library.utils import replace_env, make_url"
   ]
  },
  {
   "cell_type": "code",
   "execution_count": 2,
   "metadata": {},
   "outputs": [
    {
     "data": {
      "text/plain": [
       "{'database': {'mongo': {'type': 'mongodb',\n",
       "   'host': 'mongo',\n",
       "   'user': 'mongouser',\n",
       "   'password': 'averysecurepassword',\n",
       "   'port': '27017',\n",
       "   'db': 'reports_db'},\n",
       "  'redis': {'type': 'redis',\n",
       "   'host': 'redis',\n",
       "   'port': '6379',\n",
       "   'user': '',\n",
       "   'password': 'redispassword',\n",
       "   'db': '1'}},\n",
       " 'celery': {'broker': {'type': 'redis',\n",
       "   'host': 'redis',\n",
       "   'port': '6379',\n",
       "   'user': '',\n",
       "   'password': 'redispassword',\n",
       "   'db': '0'},\n",
       "  'results_backend': {'type': 'redis',\n",
       "   'host': 'redis',\n",
       "   'port': '6379',\n",
       "   'user': '',\n",
       "   'password': 'redispassword',\n",
       "   'db': '2'}}}"
      ]
     },
     "execution_count": 2,
     "metadata": {},
     "output_type": "execute_result"
    }
   ],
   "source": [
    "with open(\"/config/reports/default_config.yml\", \"r\") as f:\n",
    "    config = yaml.load(f, yaml.SafeLoader)\n",
    "replace_env(config)\n"
   ]
  },
  {
   "cell_type": "code",
   "execution_count": 3,
   "metadata": {},
   "outputs": [],
   "source": [
    "broker_url = make_url(config[\"celery\"][\"broker\"])\n",
    "results_backend_url = make_url(config[\"celery\"][\"results_backend\"])\n",
    "celery = Celery(__name__, broker=broker_url, backend=results_backend_url)"
   ]
  },
  {
   "cell_type": "code",
   "execution_count": 4,
   "metadata": {},
   "outputs": [],
   "source": [
    "registry = {\n",
    "    'GET_ALL_TODOS':\"tasks.worker.get_all_todos\"\n",
    "}"
   ]
  },
  {
   "cell_type": "code",
   "execution_count": 7,
   "metadata": {},
   "outputs": [],
   "source": [
    "for _ in range(10000):\n",
    "    celery.send_task(registry['GET_ALL_TODOS'])"
   ]
  },
  {
   "cell_type": "code",
   "execution_count": null,
   "metadata": {},
   "outputs": [],
   "source": []
  }
 ],
 "metadata": {
  "kernelspec": {
   "display_name": "Python 3",
   "language": "python",
   "name": "python3"
  },
  "language_info": {
   "codemirror_mode": {
    "name": "ipython",
    "version": 3
   },
   "file_extension": ".py",
   "mimetype": "text/x-python",
   "name": "python",
   "nbconvert_exporter": "python",
   "pygments_lexer": "ipython3",
   "version": "3.8.1"
  }
 },
 "nbformat": 4,
 "nbformat_minor": 4
}
